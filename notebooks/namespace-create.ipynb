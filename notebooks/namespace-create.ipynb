{
 "cells": [
  {
   "cell_type": "code",
   "execution_count": 1,
   "id": "690a5e2c",
   "metadata": {},
   "outputs": [],
   "source": [
    "from llama_stack_client import Agent\n",
    "from llama_stack_client.lib.agents.event_logger import EventLogger\n",
    "from llama_stack_client.lib.agents.react.agent import ReActAgent\n",
    "from llama_stack_client.lib.agents.react.tool_parser import ReActOutput\n",
    "import sys\n",
    "sys.path.append('..') \n",
    "from src.client_tools import get_location\n",
    "# for accessing the environment variables\n",
    "import os\n",
    "from dotenv import load_dotenv\n",
    "load_dotenv()\n",
    "\n",
    "# for communication with Llama Stack\n",
    "from llama_stack_client import LlamaStackClient\n",
    "\n",
    "# pretty print of the results returned from the model/agent\n",
    "import sys\n",
    "sys.path.append('..')  \n",
    "from src.utils import step_printer\n",
    "from termcolor import cprint"
   ]
  },
  {
   "cell_type": "code",
   "execution_count": 2,
   "id": "62dac0aa",
   "metadata": {},
   "outputs": [
    {
     "name": "stdout",
     "output_type": "stream",
     "text": [
      "Inference Parameters:\n",
      "\tModel: granite-3.2-2b-instruct\n",
      "\tSampling Parameters: {'strategy': {'type': 'greedy'}, 'max_tokens': 15000}\n",
      "\tstream: True\n"
     ]
    }
   ],
   "source": [
    "base_url = os.getenv(\"REMOTE_BASE_URL\")\n",
    "\n",
    "client = LlamaStackClient(\n",
    "    base_url=base_url\n",
    ")\n",
    "\n",
    "# model_id will later be used to pass the name of the desired inference model to Llama Stack Agents/Inference APIs\n",
    "model_id = \"granite-3.2-2b-instruct\" # \"Llama-3.2-1B-Instruct-Q8_0.gguf\" # \"/mnt/models/DeepSeek-R1-0528-Qwen3-8B-Q4_K_M.gguf\"  # \"granite-3.2-2b-instruct\" # \n",
    "\n",
    "temperature = float(os.getenv(\"TEMPERATURE\", 0.0))\n",
    "if temperature > 0.0:\n",
    "    top_p = float(os.getenv(\"TOP_P\", 0.95))\n",
    "    strategy = {\"type\": \"top_p\", \"temperature\": temperature, \"top_p\": top_p}\n",
    "else:\n",
    "    strategy = {\"type\": \"greedy\"}\n",
    "\n",
    "max_tokens = int(os.getenv(\"MAX_TOKENS\", 4096))\n",
    "\n",
    "# sampling_params will later be used to pass the parameters to Llama Stack Agents/Inference APIs\n",
    "sampling_params = {\n",
    "    \"strategy\": strategy,\n",
    "    \"max_tokens\": max_tokens,\n",
    "}\n",
    "\n",
    "stream_env = os.getenv(\"STREAM\", \"False\")\n",
    "# the Boolean 'stream' parameter will later be passed to Llama Stack Agents/Inference APIs\n",
    "# any value non equal to 'False' will be considered as 'True'\n",
    "stream = (stream_env != \"False\")\n",
    "\n",
    "print(f\"Inference Parameters:\\n\\tModel: {model_id}\\n\\tSampling Parameters: {sampling_params}\\n\\tstream: {stream}\")"
   ]
  },
  {
   "cell_type": "code",
   "execution_count": 3,
   "id": "b2e2744b",
   "metadata": {},
   "outputs": [],
   "source": [
    "# Optional: Enter your MCP server URL here\n",
    "ocp_mcp_url = os.getenv(\"REMOTE_OCP_MCP_URL\") # Optional: enter your MCP server url here\n",
    "\n",
    "# Get list of registered tools and extract their toolgroup IDs\n",
    "registered_tools = client.tools.list()\n",
    "registered_toolgroups = [tool.toolgroup_id for tool in registered_tools]\n",
    "\n",
    "if \"mcp::openshift\" not in registered_toolgroups: # required\n",
    "    client.toolgroups.register(\n",
    "        toolgroup_id=\"mcp::openshift\",\n",
    "        provider_id=\"model-context-protocol\",\n",
    "        mcp_endpoint={\"uri\":ocp_mcp_url},\n",
    "    )"
   ]
  },
  {
   "cell_type": "code",
   "execution_count": 32,
   "id": "73f1e227",
   "metadata": {},
   "outputs": [
    {
     "name": "stdout",
     "output_type": "stream",
     "text": [
      "\n",
      "==================================================\n",
      "\u001b[34mProcessing user query: Create namespace=foo, namespace=bar the cluster.\n",
      "                \u001b[0m\n",
      "==================================================\n",
      "\u001b[33minference> \u001b[0m\u001b[33m{\u001b[0m\u001b[33m\n",
      "   \u001b[0m\u001b[33m \"\u001b[0m\u001b[33mthought\u001b[0m\u001b[33m\":\u001b[0m\u001b[33m \"\u001b[0m\u001b[33mI\u001b[0m\u001b[33m need\u001b[0m\u001b[33m to\u001b[0m\u001b[33m create\u001b[0m\u001b[33m two\u001b[0m\u001b[33m namespaces\u001b[0m\u001b[33m,\u001b[0m\u001b[33m '\u001b[0m\u001b[33mfoo\u001b[0m\u001b[33m'\u001b[0m\u001b[33m and\u001b[0m\u001b[33m '\u001b[0m\u001b[33mbar\u001b[0m\u001b[33m',\u001b[0m\u001b[33m in\u001b[0m\u001b[33m the\u001b[0m\u001b[33m current\u001b[0m\u001b[33m Kubernetes\u001b[0m\u001b[33m cluster\u001b[0m\u001b[33m.\u001b[0m\u001b[33m I\u001b[0m\u001b[33m will\u001b[0m\u001b[33m use\u001b[0m\u001b[33m the\u001b[0m\u001b[33m '\u001b[0m\u001b[33mnamespace\u001b[0m\u001b[33m_\u001b[0m\u001b[33mcreate\u001b[0m\u001b[33m'\u001b[0m\u001b[33m tool\u001b[0m\u001b[33m for\u001b[0m\u001b[33m this\u001b[0m\u001b[33m task\u001b[0m\u001b[33m.\",\u001b[0m\u001b[33m\n",
      "   \u001b[0m\u001b[33m \"\u001b[0m\u001b[33maction\u001b[0m\u001b[33m\":\u001b[0m\u001b[33m {\u001b[0m\u001b[33m\n",
      "       \u001b[0m\u001b[33m \"\u001b[0m\u001b[33mtool\u001b[0m\u001b[33m_\u001b[0m\u001b[33mname\u001b[0m\u001b[33m\":\u001b[0m\u001b[33m \"\u001b[0m\u001b[33mnamespace\u001b[0m\u001b[33m_\u001b[0m\u001b[33mcreate\u001b[0m\u001b[33m\",\u001b[0m\u001b[33m\n",
      "       \u001b[0m\u001b[33m \"\u001b[0m\u001b[33mtool\u001b[0m\u001b[33m_\u001b[0m\u001b[33mparams\u001b[0m\u001b[33m\":\u001b[0m\u001b[33m [\u001b[0m\u001b[33m\n",
      "           \u001b[0m\u001b[33m {\"\u001b[0m\u001b[33mname\u001b[0m\u001b[33m\":\u001b[0m\u001b[33m \"\u001b[0m\u001b[33mnamespace\u001b[0m\u001b[33m\",\u001b[0m\u001b[33m \"\u001b[0m\u001b[33mvalue\u001b[0m\u001b[33m\":\u001b[0m\u001b[33m \"\u001b[0m\u001b[33mfoo\u001b[0m\u001b[33m\"},\u001b[0m\u001b[33m\n",
      "           \u001b[0m\u001b[33m {\"\u001b[0m\u001b[33mname\u001b[0m\u001b[33m\":\u001b[0m\u001b[33m \"\u001b[0m\u001b[33mnamespace\u001b[0m\u001b[33m\",\u001b[0m\u001b[33m \"\u001b[0m\u001b[33mvalue\u001b[0m\u001b[33m\":\u001b[0m\u001b[33m \"\u001b[0m\u001b[33mbar\u001b[0m\u001b[33m\"}\u001b[0m\u001b[33m\n",
      "       \u001b[0m\u001b[33m ]\u001b[0m\u001b[33m\n",
      "   \u001b[0m\u001b[33m },\u001b[0m\u001b[33m\n",
      "   \u001b[0m\u001b[33m \"\u001b[0m\u001b[33manswer\u001b[0m\u001b[33m\":\u001b[0m\u001b[33m null\u001b[0m\u001b[33m\n",
      "\u001b[0m\u001b[33m}\u001b[0m\u001b[97m\u001b[0m\n",
      "\u001b[30m\u001b[0m\u001b[32mtool_execution> Tool:namespace_create Response:{\"type\":\"text\",\"text\":\"bar\",\"annotations\":null}\u001b[0m\n",
      "\u001b[33minference> \u001b[0m\u001b[33m{\u001b[0m\u001b[33m\n",
      "   \u001b[0m\u001b[33m \"\u001b[0m\u001b[33mthought\u001b[0m\u001b[33m\":\u001b[0m\u001b[33m \"\u001b[0m\u001b[33mThe\u001b[0m\u001b[33m '\u001b[0m\u001b[33mnamespace\u001b[0m\u001b[33m_\u001b[0m\u001b[33mcreate\u001b[0m\u001b[33m'\u001b[0m\u001b[33m tool\u001b[0m\u001b[33m has\u001b[0m\u001b[33m successfully\u001b[0m\u001b[33m created\u001b[0m\u001b[33m the\u001b[0m\u001b[33m namespace\u001b[0m\u001b[33m '\u001b[0m\u001b[33mbar\u001b[0m\u001b[33m'.\u001b[0m\u001b[33m Now\u001b[0m\u001b[33m,\u001b[0m\u001b[33m I\u001b[0m\u001b[33m need\u001b[0m\u001b[33m to\u001b[0m\u001b[33m create\u001b[0m\u001b[33m the\u001b[0m\u001b[33m namespace\u001b[0m\u001b[33m '\u001b[0m\u001b[33mfoo\u001b[0m\u001b[33m'.\u001b[0m\u001b[33m\",\u001b[0m\u001b[33m\n",
      "   \u001b[0m\u001b[33m \"\u001b[0m\u001b[33maction\u001b[0m\u001b[33m\":\u001b[0m\u001b[33m {\u001b[0m\u001b[33m\n",
      "       \u001b[0m\u001b[33m \"\u001b[0m\u001b[33mtool\u001b[0m\u001b[33m_\u001b[0m\u001b[33mname\u001b[0m\u001b[33m\":\u001b[0m\u001b[33m \"\u001b[0m\u001b[33mnamespace\u001b[0m\u001b[33m_\u001b[0m\u001b[33mcreate\u001b[0m\u001b[33m\",\u001b[0m\u001b[33m\n",
      "       \u001b[0m\u001b[33m \"\u001b[0m\u001b[33mtool\u001b[0m\u001b[33m_\u001b[0m\u001b[33mparams\u001b[0m\u001b[33m\":\u001b[0m\u001b[33m [\u001b[0m\u001b[33m\n",
      "           \u001b[0m\u001b[33m {\"\u001b[0m\u001b[33mname\u001b[0m\u001b[33m\":\u001b[0m\u001b[33m \"\u001b[0m\u001b[33mnamespace\u001b[0m\u001b[33m\",\u001b[0m\u001b[33m \"\u001b[0m\u001b[33mvalue\u001b[0m\u001b[33m\":\u001b[0m\u001b[33m \"\u001b[0m\u001b[33mfoo\u001b[0m\u001b[33m\"}\u001b[0m\u001b[33m\n",
      "       \u001b[0m\u001b[33m ]\u001b[0m\u001b[33m\n",
      "   \u001b[0m\u001b[33m },\u001b[0m\u001b[33m\n",
      "   \u001b[0m\u001b[33m \"\u001b[0m\u001b[33manswer\u001b[0m\u001b[33m\":\u001b[0m\u001b[33m null\u001b[0m\u001b[33m\n",
      "\u001b[0m\u001b[33m}\u001b[0m\u001b[97m\u001b[0m\n",
      "\u001b[32mtool_execution> Tool:namespace_create Response:{\"type\":\"text\",\"text\":\"foo\",\"annotations\":null}\u001b[0m\n",
      "\u001b[33minference> \u001b[0m\u001b[33m{\u001b[0m\u001b[33m\n",
      "   \u001b[0m\u001b[33m \"\u001b[0m\u001b[33mthought\u001b[0m\u001b[33m\":\u001b[0m\u001b[33m \"\u001b[0m\u001b[33mBoth\u001b[0m\u001b[33m namespaces\u001b[0m\u001b[33m,\u001b[0m\u001b[33m '\u001b[0m\u001b[33mfoo\u001b[0m\u001b[33m'\u001b[0m\u001b[33m and\u001b[0m\u001b[33m '\u001b[0m\u001b[33mbar\u001b[0m\u001b[33m',\u001b[0m\u001b[33m have\u001b[0m\u001b[33m been\u001b[0m\u001b[33m created\u001b[0m\u001b[33m in\u001b[0m\u001b[33m the\u001b[0m\u001b[33m current\u001b[0m\u001b[33m Kubernetes\u001b[0m\u001b[33m cluster\u001b[0m\u001b[33m.\",\u001b[0m\u001b[33m\n",
      "   \u001b[0m\u001b[33m \"\u001b[0m\u001b[33maction\u001b[0m\u001b[33m\":\u001b[0m\u001b[33m null\u001b[0m\u001b[33m,\u001b[0m\u001b[33m\n",
      "   \u001b[0m\u001b[33m \"\u001b[0m\u001b[33manswer\u001b[0m\u001b[33m\":\u001b[0m\u001b[33m \"\u001b[0m\u001b[33mSuccessfully\u001b[0m\u001b[33m created\u001b[0m\u001b[33m namespaces\u001b[0m\u001b[33m:\u001b[0m\u001b[33m foo\u001b[0m\u001b[33m and\u001b[0m\u001b[33m bar\u001b[0m\u001b[33m\"\u001b[0m\u001b[33m\n",
      "\u001b[0m\u001b[33m}\u001b[0m\u001b[97m\u001b[0m\n",
      "\u001b[30m\u001b[0m"
     ]
    }
   ],
   "source": [
    "agent = ReActAgent(\n",
    "            client=client,\n",
    "            model=model_id,\n",
    "            tools=[\"mcp::openshift\"],\n",
    "            response_format={\n",
    "                \"type\": \"json_schema\",\n",
    "                \"json_schema\": ReActOutput.model_json_schema(),\n",
    "            },\n",
    "            sampling_params=sampling_params,\n",
    "        )\n",
    "\n",
    "user_prompts = [\"\"\"Create namespace=foo, namespace=bar the cluster.\n",
    "                \"\"\"\n",
    "                ]\n",
    "\n",
    "session_id = agent.create_session(\"web-session\")\n",
    "for prompt in user_prompts:\n",
    "    print(\"\\n\"+\"=\"*50)\n",
    "    cprint(f\"Processing user query: {prompt}\", \"blue\")\n",
    "    print(\"=\"*50)\n",
    "    response = agent.create_turn(\n",
    "        messages=[\n",
    "            {\n",
    "                \"role\": \"user\",\n",
    "                \"content\": prompt,\n",
    "            }\n",
    "        ],\n",
    "        session_id=session_id,\n",
    "        stream=stream\n",
    "    )\n",
    "    if stream:\n",
    "        for log in EventLogger().log(response):\n",
    "            log.print()\n",
    "    else:\n",
    "        step_printer(response.steps) # print the steps of an agent's response in a formatted way. "
   ]
  },
  {
   "cell_type": "code",
   "execution_count": null,
   "id": "d95c7178",
   "metadata": {},
   "outputs": [],
   "source": []
  }
 ],
 "metadata": {
  "kernelspec": {
   "display_name": "venv",
   "language": "python",
   "name": "python3"
  },
  "language_info": {
   "codemirror_mode": {
    "name": "ipython",
    "version": 3
   },
   "file_extension": ".py",
   "mimetype": "text/x-python",
   "name": "python",
   "nbconvert_exporter": "python",
   "pygments_lexer": "ipython3",
   "version": "3.12.10"
  }
 },
 "nbformat": 4,
 "nbformat_minor": 5
}
